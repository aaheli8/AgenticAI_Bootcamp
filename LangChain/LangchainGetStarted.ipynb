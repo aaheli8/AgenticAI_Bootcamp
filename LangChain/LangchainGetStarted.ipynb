{
 "cells": [
  {
   "cell_type": "markdown",
   "id": "1976747f",
   "metadata": {},
   "source": [
    "<!-- Langchain\n",
    "\n",
    "- Setup Langchain, LangSmith and LangServe [https://python.langchain.com/docs/introduction/]\n",
    "- Basic components of LangChain: Prompt templates, models and output parsers -->"
   ]
  },
  {
   "cell_type": "code",
   "execution_count": null,
   "id": "e5fe13f9",
   "metadata": {
    "vscode": {
     "languageId": "plaintext"
    }
   },
   "outputs": [],
   "source": [
    "Langchain\n",
    "- Setup of LangChain, LangSmith and LangServe\n",
    "- Most basic components : Prompt templates, models and output parsers"
   ]
  },
  {
   "cell_type": "markdown",
   "id": "5dac5582",
   "metadata": {},
   "source": []
  }
 ],
 "metadata": {
  "language_info": {
   "name": "python"
  }
 },
 "nbformat": 4,
 "nbformat_minor": 5
}
